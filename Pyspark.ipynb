{
  "nbformat": 4,
  "nbformat_minor": 0,
  "metadata": {
    "colab": {
      "provenance": [],
      "authorship_tag": "ABX9TyMM9NARVvIV7RWIbAUZdXxF",
      "include_colab_link": true
    },
    "kernelspec": {
      "name": "python3",
      "display_name": "Python 3"
    },
    "language_info": {
      "name": "python"
    }
  },
  "cells": [
    {
      "cell_type": "markdown",
      "metadata": {
        "id": "view-in-github",
        "colab_type": "text"
      },
      "source": [
        "<a href=\"https://colab.research.google.com/github/Sam-Ny/PySpark/blob/main/Pyspark.ipynb\" target=\"_parent\"><img src=\"https://colab.research.google.com/assets/colab-badge.svg\" alt=\"Open In Colab\"/></a>"
      ]
    },
    {
      "cell_type": "code",
      "source": [
        "from pyspark.sql import SparkSession\n",
        "from pyspark.sql.types import StructType, StructField, IntegerType, StringType\n",
        "import pyspark.sql.functions as func"
      ],
      "metadata": {
        "id": "PW90BFQ3f4I9"
      },
      "execution_count": 3,
      "outputs": []
    },
    {
      "cell_type": "code",
      "source": [
        "!pip install pyspark py4j"
      ],
      "metadata": {
        "colab": {
          "base_uri": "https://localhost:8080/"
        },
        "id": "5ekwl_kMclyz",
        "outputId": "372149fd-ae76-417f-84f9-1237df8c5abb"
      },
      "execution_count": 2,
      "outputs": [
        {
          "output_type": "stream",
          "name": "stdout",
          "text": [
            "Collecting pyspark\n",
            "  Downloading pyspark-3.5.0.tar.gz (316.9 MB)\n",
            "\u001b[2K     \u001b[90m━━━━━━━━━━━━━━━━━━━━━━━━━━━━━━━━━━━━━━━━\u001b[0m \u001b[32m316.9/316.9 MB\u001b[0m \u001b[31m4.5 MB/s\u001b[0m eta \u001b[36m0:00:00\u001b[0m\n",
            "\u001b[?25h  Preparing metadata (setup.py) ... \u001b[?25l\u001b[?25hdone\n",
            "Requirement already satisfied: py4j in /usr/local/lib/python3.10/dist-packages (0.10.9.7)\n",
            "Building wheels for collected packages: pyspark\n",
            "  Building wheel for pyspark (setup.py) ... \u001b[?25l\u001b[?25hdone\n",
            "  Created wheel for pyspark: filename=pyspark-3.5.0-py2.py3-none-any.whl size=317425345 sha256=6544deaa6ccf3e48e44882d32a80637a905dc9240b507225769de8b800038a95\n",
            "  Stored in directory: /root/.cache/pip/wheels/41/4e/10/c2cf2467f71c678cfc8a6b9ac9241e5e44a01940da8fbb17fc\n",
            "Successfully built pyspark\n",
            "Installing collected packages: pyspark\n",
            "Successfully installed pyspark-3.5.0\n"
          ]
        }
      ]
    },
    {
      "cell_type": "code",
      "source": [
        "#Creating the SparkSession\n",
        "spark = SparkSession.builder.appName(\"FirstApp\").getOrCreate()"
      ],
      "metadata": {
        "id": "yXw3xXfzhHRj"
      },
      "execution_count": 4,
      "outputs": []
    },
    {
      "cell_type": "code",
      "source": [
        "#Defining schema for your Dataframe\n",
        "myschema = StructType([\\\n",
        "                       StructField(\"userID\", IntegerType(),True),\n",
        "                       StructField(\"name\", StringType(),True),\n",
        "                       StructField(\"age\", IntegerType(),True),\n",
        "                       StructField(\"friends\", IntegerType(),True)\n",
        "                       ])"
      ],
      "metadata": {
        "id": "pqfEBiA9kB81"
      },
      "execution_count": 5,
      "outputs": []
    },
    {
      "cell_type": "code",
      "source": [
        "#Creating Dataframe on a CSV file\n",
        "people = spark.read.format(\"CSV\")\\\n",
        "      .schema(myschema)\\\n",
        "      .option(\"path\",\"/content/fakefriends.csv\")\\\n",
        "      .load()"
      ],
      "metadata": {
        "id": "TFaFwxlUkuOt"
      },
      "execution_count": 7,
      "outputs": []
    },
    {
      "cell_type": "code",
      "source": [
        "#Performing all the transformations\n",
        "output=people.select(people.userID,people.name,people.age,people.friends).where(people.age<30).withColumn('insert_timestamp',func.current_timestamp()).orderBy(people.userID)"
      ],
      "metadata": {
        "id": "rAZwExWGdTVK"
      },
      "execution_count": 8,
      "outputs": []
    },
    {
      "cell_type": "code",
      "source": [
        "#taking the count of o/p dataframe\n",
        "output.show()"
      ],
      "metadata": {
        "colab": {
          "base_uri": "https://localhost:8080/"
        },
        "id": "cGzXhoIcm4GO",
        "outputId": "2420a8f6-b942-4efa-f570-02bd3d35ba14"
      },
      "execution_count": 10,
      "outputs": [
        {
          "output_type": "stream",
          "name": "stdout",
          "text": [
            "+------+--------+---+-------+--------------------+\n",
            "|userID|    name|age|friends|    insert_timestamp|\n",
            "+------+--------+---+-------+--------------------+\n",
            "|     1|Jean-Luc| 26|      2|2024-02-11 18:40:...|\n",
            "|     9|    Hugh| 27|    181|2024-02-11 18:40:...|\n",
            "|    16|  Weyoun| 22|    323|2024-02-11 18:40:...|\n",
            "|    21|   Miles| 19|    268|2024-02-11 18:40:...|\n",
            "|    24|  Julian| 25|      1|2024-02-11 18:40:...|\n",
            "|    25|     Ben| 21|    445|2024-02-11 18:40:...|\n",
            "|    26|  Julian| 22|    100|2024-02-11 18:40:...|\n",
            "|    32|     Nog| 26|    281|2024-02-11 18:40:...|\n",
            "|    35| Beverly| 27|    305|2024-02-11 18:40:...|\n",
            "|    46|    Morn| 25|     96|2024-02-11 18:40:...|\n",
            "|    47|   Brunt| 24|     49|2024-02-11 18:40:...|\n",
            "|    48|     Nog| 20|      1|2024-02-11 18:40:...|\n",
            "|    52| Beverly| 19|    269|2024-02-11 18:40:...|\n",
            "|    54|   Brunt| 19|      5|2024-02-11 18:40:...|\n",
            "|    60|  Geordi| 20|    100|2024-02-11 18:40:...|\n",
            "|    66|  Geordi| 21|    477|2024-02-11 18:40:...|\n",
            "|    72|  Kasidy| 22|    179|2024-02-11 18:40:...|\n",
            "|    73|   Brunt| 20|    384|2024-02-11 18:40:...|\n",
            "|    84|     Ben| 28|    311|2024-02-11 18:40:...|\n",
            "|    89|    Worf| 24|    492|2024-02-11 18:40:...|\n",
            "+------+--------+---+-------+--------------------+\n",
            "only showing top 20 rows\n",
            "\n"
          ]
        }
      ]
    },
    {
      "cell_type": "code",
      "source": [
        "#Creating a Temp View\n",
        "output.createOrReplaceTempView(\"peoples\")"
      ],
      "metadata": {
        "id": "J4Hg7DqReTX7"
      },
      "execution_count": 11,
      "outputs": []
    },
    {
      "cell_type": "code",
      "source": [
        "#Running a simple Spark SQL query\n",
        "spark.sql(\"select userId,name,age,friends,insert_timestamp from peoples\").show()"
      ],
      "metadata": {
        "colab": {
          "base_uri": "https://localhost:8080/"
        },
        "id": "jMG6Aha6eg96",
        "outputId": "d2a8d68b-1e1c-4ee0-f574-a5cb74a3d328"
      },
      "execution_count": 13,
      "outputs": [
        {
          "output_type": "stream",
          "name": "stdout",
          "text": [
            "+------+--------+---+-------+--------------------+\n",
            "|userId|    name|age|friends|    insert_timestamp|\n",
            "+------+--------+---+-------+--------------------+\n",
            "|     1|Jean-Luc| 26|      2|2024-02-11 18:43:...|\n",
            "|     9|    Hugh| 27|    181|2024-02-11 18:43:...|\n",
            "|    16|  Weyoun| 22|    323|2024-02-11 18:43:...|\n",
            "|    21|   Miles| 19|    268|2024-02-11 18:43:...|\n",
            "|    24|  Julian| 25|      1|2024-02-11 18:43:...|\n",
            "|    25|     Ben| 21|    445|2024-02-11 18:43:...|\n",
            "|    26|  Julian| 22|    100|2024-02-11 18:43:...|\n",
            "|    32|     Nog| 26|    281|2024-02-11 18:43:...|\n",
            "|    35| Beverly| 27|    305|2024-02-11 18:43:...|\n",
            "|    46|    Morn| 25|     96|2024-02-11 18:43:...|\n",
            "|    47|   Brunt| 24|     49|2024-02-11 18:43:...|\n",
            "|    48|     Nog| 20|      1|2024-02-11 18:43:...|\n",
            "|    52| Beverly| 19|    269|2024-02-11 18:43:...|\n",
            "|    54|   Brunt| 19|      5|2024-02-11 18:43:...|\n",
            "|    60|  Geordi| 20|    100|2024-02-11 18:43:...|\n",
            "|    66|  Geordi| 21|    477|2024-02-11 18:43:...|\n",
            "|    72|  Kasidy| 22|    179|2024-02-11 18:43:...|\n",
            "|    73|   Brunt| 20|    384|2024-02-11 18:43:...|\n",
            "|    84|     Ben| 28|    311|2024-02-11 18:43:...|\n",
            "|    89|    Worf| 24|    492|2024-02-11 18:43:...|\n",
            "+------+--------+---+-------+--------------------+\n",
            "only showing top 20 rows\n",
            "\n"
          ]
        }
      ]
    }
  ]
}