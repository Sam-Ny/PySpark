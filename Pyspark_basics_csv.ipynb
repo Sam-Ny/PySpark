{
  "nbformat": 4,
  "nbformat_minor": 0,
  "metadata": {
    "colab": {
      "provenance": [],
      "collapsed_sections": [
        "EL6YMnoavzqx",
        "5B7_e5nTxY4k"
      ],
      "toc_visible": true,
      "authorship_tag": "ABX9TyPuAs1VVI4n0ThYIrVOKw/2",
      "include_colab_link": true
    },
    "kernelspec": {
      "name": "python3",
      "display_name": "Python 3"
    },
    "language_info": {
      "name": "python"
    }
  },
  "cells": [
    {
      "cell_type": "markdown",
      "metadata": {
        "id": "view-in-github",
        "colab_type": "text"
      },
      "source": [
        "<a href=\"https://colab.research.google.com/github/Sam-Ny/PySpark/blob/main/Pyspark_basics_csv.ipynb\" target=\"_parent\"><img src=\"https://colab.research.google.com/assets/colab-badge.svg\" alt=\"Open In Colab\"/></a>"
      ]
    },
    {
      "cell_type": "code",
      "source": [
        "!pip install pyspark py4j"
      ],
      "metadata": {
        "id": "5ekwl_kMclyz",
        "colab": {
          "base_uri": "https://localhost:8080/"
        },
        "outputId": "4f6bc090-7056-4a5a-c27f-c6b5c3a30a6c"
      },
      "execution_count": 1,
      "outputs": [
        {
          "output_type": "stream",
          "name": "stdout",
          "text": [
            "Collecting pyspark\n",
            "  Downloading pyspark-3.5.0.tar.gz (316.9 MB)\n",
            "\u001b[2K     \u001b[90m━━━━━━━━━━━━━━━━━━━━━━━━━━━━━━━━━━━━━━━━\u001b[0m \u001b[32m316.9/316.9 MB\u001b[0m \u001b[31m4.2 MB/s\u001b[0m eta \u001b[36m0:00:00\u001b[0m\n",
            "\u001b[?25h  Preparing metadata (setup.py) ... \u001b[?25l\u001b[?25hdone\n",
            "Requirement already satisfied: py4j in /usr/local/lib/python3.10/dist-packages (0.10.9.7)\n",
            "Building wheels for collected packages: pyspark\n",
            "  Building wheel for pyspark (setup.py) ... \u001b[?25l\u001b[?25hdone\n",
            "  Created wheel for pyspark: filename=pyspark-3.5.0-py2.py3-none-any.whl size=317425345 sha256=579ce016eba1bc7c1655a58562c458eca71488e1464d91777d6ff81a6f83b941\n",
            "  Stored in directory: /root/.cache/pip/wheels/41/4e/10/c2cf2467f71c678cfc8a6b9ac9241e5e44a01940da8fbb17fc\n",
            "Successfully built pyspark\n",
            "Installing collected packages: pyspark\n",
            "Successfully installed pyspark-3.5.0\n"
          ]
        }
      ]
    },
    {
      "cell_type": "markdown",
      "source": [
        "# To load and analyse the fakefriends.csv data | Data Frame reader and writer."
      ],
      "metadata": {
        "id": "EL6YMnoavzqx"
      }
    },
    {
      "cell_type": "code",
      "source": [
        "from pyspark.sql import SparkSession\n",
        "from pyspark.sql.types import StructType, StructField, IntegerType, StringType\n",
        "import pyspark.sql.functions as func"
      ],
      "metadata": {
        "id": "PW90BFQ3f4I9"
      },
      "execution_count": 2,
      "outputs": []
    },
    {
      "cell_type": "code",
      "source": [
        "#Creating the SparkSession\n",
        "spark_fakefriends = SparkSession.builder.appName(\"FirstApp\").getOrCreate()"
      ],
      "metadata": {
        "id": "yXw3xXfzhHRj"
      },
      "execution_count": 3,
      "outputs": []
    },
    {
      "cell_type": "code",
      "source": [
        "#Defining schema for your Dataframe\n",
        "myschema = StructType([\\\n",
        "                       StructField(\"userID\", IntegerType(),True), #True means is nullable\n",
        "                       StructField(\"name\", StringType(),True),\n",
        "                       StructField(\"age\", IntegerType(),True),\n",
        "                       StructField(\"friends\", IntegerType(),True)\n",
        "                       ])"
      ],
      "metadata": {
        "id": "pqfEBiA9kB81"
      },
      "execution_count": 4,
      "outputs": []
    },
    {
      "cell_type": "code",
      "source": [
        "#Creating Dataframe on a CSV file\n",
        "people = spark_fakefriends.read.format(\"CSV\")\\\n",
        "      .schema(myschema)\\\n",
        "      .option(\"path\",\"/content/fakefriends.csv\")\\\n",
        "      .load()\n",
        "\n",
        "people.printSchema()"
      ],
      "metadata": {
        "id": "TFaFwxlUkuOt",
        "colab": {
          "base_uri": "https://localhost:8080/"
        },
        "outputId": "4cddc799-2325-4a40-9911-c28f516daa82"
      },
      "execution_count": 5,
      "outputs": [
        {
          "output_type": "stream",
          "name": "stdout",
          "text": [
            "root\n",
            " |-- userID: integer (nullable = true)\n",
            " |-- name: string (nullable = true)\n",
            " |-- age: integer (nullable = true)\n",
            " |-- friends: integer (nullable = true)\n",
            "\n"
          ]
        }
      ]
    },
    {
      "cell_type": "code",
      "source": [
        "#Performing all the transformations\n",
        "output=people.select(people.userID,people.name,people.age,people.friends).where(people.age<30).withColumn('insert_timestamp',func.current_timestamp()).orderBy(people.userID).cache()"
      ],
      "metadata": {
        "id": "rAZwExWGdTVK"
      },
      "execution_count": 6,
      "outputs": []
    },
    {
      "cell_type": "code",
      "source": [
        "#taking the count of o/p dataframe\n",
        "output.show()"
      ],
      "metadata": {
        "id": "cGzXhoIcm4GO",
        "colab": {
          "base_uri": "https://localhost:8080/"
        },
        "outputId": "5c5dfd9c-e247-430e-eae8-bcc6b850ed86"
      },
      "execution_count": 7,
      "outputs": [
        {
          "output_type": "stream",
          "name": "stdout",
          "text": [
            "+------+--------+---+-------+--------------------+\n",
            "|userID|    name|age|friends|    insert_timestamp|\n",
            "+------+--------+---+-------+--------------------+\n",
            "|     1|Jean-Luc| 26|      2|2024-02-19 07:08:...|\n",
            "|     9|    Hugh| 27|    181|2024-02-19 07:08:...|\n",
            "|    16|  Weyoun| 22|    323|2024-02-19 07:08:...|\n",
            "|    21|   Miles| 19|    268|2024-02-19 07:08:...|\n",
            "|    24|  Julian| 25|      1|2024-02-19 07:08:...|\n",
            "|    25|     Ben| 21|    445|2024-02-19 07:08:...|\n",
            "|    26|  Julian| 22|    100|2024-02-19 07:08:...|\n",
            "|    32|     Nog| 26|    281|2024-02-19 07:08:...|\n",
            "|    35| Beverly| 27|    305|2024-02-19 07:08:...|\n",
            "|    46|    Morn| 25|     96|2024-02-19 07:08:...|\n",
            "|    47|   Brunt| 24|     49|2024-02-19 07:08:...|\n",
            "|    48|     Nog| 20|      1|2024-02-19 07:08:...|\n",
            "|    52| Beverly| 19|    269|2024-02-19 07:08:...|\n",
            "|    54|   Brunt| 19|      5|2024-02-19 07:08:...|\n",
            "|    60|  Geordi| 20|    100|2024-02-19 07:08:...|\n",
            "|    66|  Geordi| 21|    477|2024-02-19 07:08:...|\n",
            "|    72|  Kasidy| 22|    179|2024-02-19 07:08:...|\n",
            "|    73|   Brunt| 20|    384|2024-02-19 07:08:...|\n",
            "|    84|     Ben| 28|    311|2024-02-19 07:08:...|\n",
            "|    89|    Worf| 24|    492|2024-02-19 07:08:...|\n",
            "+------+--------+---+-------+--------------------+\n",
            "only showing top 20 rows\n",
            "\n"
          ]
        }
      ]
    },
    {
      "cell_type": "code",
      "source": [
        "#Creating a Temp View\n",
        "output.createOrReplaceTempView(\"peoples\")"
      ],
      "metadata": {
        "id": "J4Hg7DqReTX7"
      },
      "execution_count": 8,
      "outputs": []
    },
    {
      "cell_type": "code",
      "source": [
        "#Running a simple Spark SQL query\n",
        "spark_fakefriends.sql(\"select userId,name,age,friends,insert_timestamp from peoples\").show()"
      ],
      "metadata": {
        "id": "jMG6Aha6eg96",
        "colab": {
          "base_uri": "https://localhost:8080/"
        },
        "outputId": "b3710463-061a-4842-e210-14189f81d586"
      },
      "execution_count": 9,
      "outputs": [
        {
          "output_type": "stream",
          "name": "stdout",
          "text": [
            "+------+--------+---+-------+--------------------+\n",
            "|userId|    name|age|friends|    insert_timestamp|\n",
            "+------+--------+---+-------+--------------------+\n",
            "|     1|Jean-Luc| 26|      2|2024-02-19 07:08:...|\n",
            "|     9|    Hugh| 27|    181|2024-02-19 07:08:...|\n",
            "|    16|  Weyoun| 22|    323|2024-02-19 07:08:...|\n",
            "|    21|   Miles| 19|    268|2024-02-19 07:08:...|\n",
            "|    24|  Julian| 25|      1|2024-02-19 07:08:...|\n",
            "|    25|     Ben| 21|    445|2024-02-19 07:08:...|\n",
            "|    26|  Julian| 22|    100|2024-02-19 07:08:...|\n",
            "|    32|     Nog| 26|    281|2024-02-19 07:08:...|\n",
            "|    35| Beverly| 27|    305|2024-02-19 07:08:...|\n",
            "|    46|    Morn| 25|     96|2024-02-19 07:08:...|\n",
            "|    47|   Brunt| 24|     49|2024-02-19 07:08:...|\n",
            "|    48|     Nog| 20|      1|2024-02-19 07:08:...|\n",
            "|    52| Beverly| 19|    269|2024-02-19 07:08:...|\n",
            "|    54|   Brunt| 19|      5|2024-02-19 07:08:...|\n",
            "|    60|  Geordi| 20|    100|2024-02-19 07:08:...|\n",
            "|    66|  Geordi| 21|    477|2024-02-19 07:08:...|\n",
            "|    72|  Kasidy| 22|    179|2024-02-19 07:08:...|\n",
            "|    73|   Brunt| 20|    384|2024-02-19 07:08:...|\n",
            "|    84|     Ben| 28|    311|2024-02-19 07:08:...|\n",
            "|    89|    Worf| 24|    492|2024-02-19 07:08:...|\n",
            "+------+--------+---+-------+--------------------+\n",
            "only showing top 20 rows\n",
            "\n"
          ]
        }
      ]
    },
    {
      "cell_type": "code",
      "source": [
        "output.write\\\n",
        ".format(\"CSV\")\\\n",
        ".mode(\"overwrite\")\\\n",
        ".option('path','/content/spark-warehouse/')\\\n",
        ".bucketBy(4,'age')\\\n",
        ".saveAsTable('bucketed_fakefreinds')"
      ],
      "metadata": {
        "id": "Dmmtf7yiLPMM"
      },
      "execution_count": 10,
      "outputs": []
    },
    {
      "cell_type": "code",
      "source": [
        "bucketed_fakefreinds_df = spark_fakefriends.sql('select * from bucketed_fakefreinds')\n",
        "bucketed_fakefreinds_df.show(1000)"
      ],
      "metadata": {
        "id": "oa7Q9bavNvNb"
      },
      "execution_count": null,
      "outputs": []
    },
    {
      "cell_type": "markdown",
      "source": [
        "# To load and analyse the operations_management.csv data."
      ],
      "metadata": {
        "id": "5B7_e5nTxY4k"
      }
    },
    {
      "cell_type": "code",
      "source": [
        "from pyspark.sql import SparkSession\n",
        "from pyspark.sql.functions import col, desc"
      ],
      "metadata": {
        "id": "6hz-iKi-xk-U"
      },
      "execution_count": null,
      "outputs": []
    },
    {
      "cell_type": "code",
      "source": [
        "spark_operations = SparkSession.builder.appName('operations_management data analisation').getOrCreate()"
      ],
      "metadata": {
        "id": "SiYlwzFWjBsR"
      },
      "execution_count": null,
      "outputs": []
    },
    {
      "cell_type": "code",
      "source": [
        "print(spark_operations.version)"
      ],
      "metadata": {
        "id": "fNvHX_g5jT3n",
        "colab": {
          "base_uri": "https://localhost:8080/"
        },
        "outputId": "09fd4bbe-3abd-4a11-aeac-08357a8cf76d"
      },
      "execution_count": null,
      "outputs": [
        {
          "output_type": "stream",
          "name": "stdout",
          "text": [
            "3.5.0\n"
          ]
        }
      ]
    },
    {
      "cell_type": "code",
      "source": [
        "data_frame = spark_operations.read.format('CSV').\\\n",
        "option('inferSchema','true').\\\n",
        "option('header','true').\\\n",
        "option('path','/content/operations_management.csv').\\\n",
        "load()"
      ],
      "metadata": {
        "id": "cDDV6YDVjllP"
      },
      "execution_count": null,
      "outputs": []
    },
    {
      "cell_type": "code",
      "source": [
        "data_frame.printSchema()"
      ],
      "metadata": {
        "id": "nVllKFQgm2N3",
        "colab": {
          "base_uri": "https://localhost:8080/"
        },
        "outputId": "4b942135-12aa-40ec-af03-7fc0257502b8"
      },
      "execution_count": null,
      "outputs": [
        {
          "output_type": "stream",
          "name": "stdout",
          "text": [
            "root\n",
            " |-- description: string (nullable = true)\n",
            " |-- industry: string (nullable = true)\n",
            " |-- level: integer (nullable = true)\n",
            " |-- size: string (nullable = true)\n",
            " |-- line_code: string (nullable = true)\n",
            " |-- value: integer (nullable = true)\n",
            "\n"
          ]
        }
      ]
    },
    {
      "cell_type": "code",
      "source": [
        "data_frame_2 = data_frame.select('industry','value').\\\n",
        "where(data_frame.value > 10000).\\\n",
        "orderBy(desc('value'))"
      ],
      "metadata": {
        "id": "lRO05ziFn20V"
      },
      "execution_count": null,
      "outputs": []
    },
    {
      "cell_type": "code",
      "source": [
        "data_frame_2.printSchema()"
      ],
      "metadata": {
        "id": "VCea1fIOpnKz",
        "colab": {
          "base_uri": "https://localhost:8080/"
        },
        "outputId": "bfab36d8-3ad4-4ebb-d7aa-1d006cb5b2a6"
      },
      "execution_count": null,
      "outputs": [
        {
          "output_type": "stream",
          "name": "stdout",
          "text": [
            "root\n",
            " |-- industry: string (nullable = true)\n",
            " |-- value: integer (nullable = true)\n",
            "\n"
          ]
        }
      ]
    },
    {
      "cell_type": "code",
      "source": [
        "data_frame_2.show(5)"
      ],
      "metadata": {
        "id": "v4Vq2npyqg4r",
        "colab": {
          "base_uri": "https://localhost:8080/"
        },
        "outputId": "e9dfadff-4e27-4c32-8248-a8102151abbc"
      },
      "execution_count": null,
      "outputs": [
        {
          "output_type": "stream",
          "name": "stdout",
          "text": [
            "+--------+-----+\n",
            "|industry|value|\n",
            "+--------+-----+\n",
            "|   total|41091|\n",
            "|   total|40431|\n",
            "|   total|33984|\n",
            "|   total|33750|\n",
            "|   total|32652|\n",
            "+--------+-----+\n",
            "only showing top 5 rows\n",
            "\n"
          ]
        }
      ]
    },
    {
      "cell_type": "code",
      "source": [
        "# Or we can use filter instead of where clause to filter using value columns\n",
        "data_frame_3 = data_frame.select('industry','value').\\\n",
        "filter((col('value') > 200) & (col('industry') != 'total')).\\\n",
        "orderBy(desc('value'))"
      ],
      "metadata": {
        "id": "2mQT1ox6pvp5"
      },
      "execution_count": null,
      "outputs": []
    },
    {
      "cell_type": "code",
      "source": [
        "data_frame_3.printSchema()"
      ],
      "metadata": {
        "id": "p1sSSqL6qb59",
        "colab": {
          "base_uri": "https://localhost:8080/"
        },
        "outputId": "1aa211b7-b000-4606-f3f3-5e617391dc10"
      },
      "execution_count": null,
      "outputs": [
        {
          "output_type": "stream",
          "name": "stdout",
          "text": [
            "root\n",
            " |-- industry: string (nullable = true)\n",
            " |-- value: integer (nullable = true)\n",
            "\n"
          ]
        }
      ]
    },
    {
      "cell_type": "code",
      "source": [
        "data_frame_3.show(5)"
      ],
      "metadata": {
        "id": "nabI5mSLqnnh",
        "colab": {
          "base_uri": "https://localhost:8080/"
        },
        "outputId": "94569850-9582-461d-9b7d-4f038de5632c"
      },
      "execution_count": null,
      "outputs": [
        {
          "output_type": "stream",
          "name": "stdout",
          "text": [
            "+--------------------+-----+\n",
            "|            industry|value|\n",
            "+--------------------+-----+\n",
            "|        Construction| 6030|\n",
            "|        Construction| 5904|\n",
            "|        Construction| 5229|\n",
            "|Accommodation & f...| 5058|\n",
            "|        Construction| 4965|\n",
            "+--------------------+-----+\n",
            "only showing top 5 rows\n",
            "\n"
          ]
        }
      ]
    },
    {
      "cell_type": "code",
      "source": [
        "# Creating a Temp View\n",
        "data_frame_3.createOrReplaceTempView('data') #Here data is any name given to view"
      ],
      "metadata": {
        "id": "kFfD3tuUwMa-"
      },
      "execution_count": null,
      "outputs": []
    },
    {
      "cell_type": "code",
      "source": [
        "# To get the temp view data\n",
        "spark_operations.sql('''select industry, value\n",
        "from data\n",
        "where value >200 and\n",
        "industry !=\"total\" order by value desc\n",
        "''').show(5)"
      ],
      "metadata": {
        "id": "vJu31L62xUB3",
        "colab": {
          "base_uri": "https://localhost:8080/"
        },
        "outputId": "69dabe6a-3e90-4239-e138-4730b67b5831"
      },
      "execution_count": null,
      "outputs": [
        {
          "output_type": "stream",
          "name": "stdout",
          "text": [
            "+--------------------+-----+\n",
            "|            industry|value|\n",
            "+--------------------+-----+\n",
            "|        Construction| 6030|\n",
            "|        Construction| 5904|\n",
            "|        Construction| 5229|\n",
            "|Accommodation & f...| 5058|\n",
            "|        Construction| 4965|\n",
            "+--------------------+-----+\n",
            "only showing top 5 rows\n",
            "\n"
          ]
        }
      ]
    },
    {
      "cell_type": "markdown",
      "source": [
        "# To Create Global and Section Scope view using operations_management.csv data"
      ],
      "metadata": {
        "id": "yraf-sckGRRE"
      }
    },
    {
      "cell_type": "code",
      "source": [
        "from pyspark.sql import SparkSession\n",
        "from pyspark.sql.functions import col, desc"
      ],
      "metadata": {
        "id": "_YGAbi1TGozc"
      },
      "execution_count": null,
      "outputs": []
    },
    {
      "cell_type": "code",
      "source": [
        "spark_operations = SparkSession.builder.appName('operations_management data analisation').getOrCreate()"
      ],
      "metadata": {
        "id": "x8TDR87yGozj"
      },
      "execution_count": null,
      "outputs": []
    },
    {
      "cell_type": "code",
      "source": [
        "print(spark_operations.version)"
      ],
      "metadata": {
        "colab": {
          "base_uri": "https://localhost:8080/"
        },
        "outputId": "b8e6adc3-03dd-4397-c603-6b04d8ab2dac",
        "id": "Wrh164A-Gozj"
      },
      "execution_count": null,
      "outputs": [
        {
          "output_type": "stream",
          "name": "stdout",
          "text": [
            "3.5.0\n"
          ]
        }
      ]
    },
    {
      "cell_type": "code",
      "source": [
        "data_frame = spark_operations.read.format('CSV').\\\n",
        "option('inferSchema','true').\\\n",
        "option('header','true').\\\n",
        "option('path','/content/operations_management.csv').\\\n",
        "load()"
      ],
      "metadata": {
        "id": "_3CWZlBaGozj"
      },
      "execution_count": null,
      "outputs": []
    },
    {
      "cell_type": "code",
      "source": [
        "data_frame.printSchema()"
      ],
      "metadata": {
        "colab": {
          "base_uri": "https://localhost:8080/"
        },
        "outputId": "d0bb9b8f-944c-4a87-fe81-b511ac459ea6",
        "id": "bsnRKk7NGozk"
      },
      "execution_count": null,
      "outputs": [
        {
          "output_type": "stream",
          "name": "stdout",
          "text": [
            "root\n",
            " |-- description: string (nullable = true)\n",
            " |-- industry: string (nullable = true)\n",
            " |-- level: integer (nullable = true)\n",
            " |-- size: string (nullable = true)\n",
            " |-- line_code: string (nullable = true)\n",
            " |-- value: integer (nullable = true)\n",
            "\n"
          ]
        }
      ]
    },
    {
      "cell_type": "code",
      "source": [
        "data_frame.createOrReplaceGlobalTempView(\"test\")"
      ],
      "metadata": {
        "id": "f680AN9bHajS"
      },
      "execution_count": null,
      "outputs": []
    },
    {
      "cell_type": "code",
      "source": [
        "data_frame_4 = spark_operations.sql('select * from test')\n",
        "data_frame_4.show()"
      ],
      "metadata": {
        "colab": {
          "base_uri": "https://localhost:8080/",
          "height": 391
        },
        "id": "XJ97EKwAHQrW",
        "outputId": "03b3b9c7-23d8-4dc9-c84c-3b6858453a40"
      },
      "execution_count": null,
      "outputs": [
        {
          "output_type": "error",
          "ename": "AnalysisException",
          "evalue": "[TABLE_OR_VIEW_NOT_FOUND] The table or view `test` cannot be found. Verify the spelling and correctness of the schema and catalog.\nIf you did not qualify the name with a schema, verify the current_schema() output, or qualify the name with the correct schema and catalog.\nTo tolerate the error on drop use DROP VIEW IF EXISTS or DROP TABLE IF EXISTS.; line 1 pos 14;\n'Project [*]\n+- 'UnresolvedRelation [test], [], false\n",
          "traceback": [
            "\u001b[0;31m---------------------------------------------------------------------------\u001b[0m",
            "\u001b[0;31mAnalysisException\u001b[0m                         Traceback (most recent call last)",
            "\u001b[0;32m<ipython-input-16-1d7f87c92042>\u001b[0m in \u001b[0;36m<cell line: 1>\u001b[0;34m()\u001b[0m\n\u001b[0;32m----> 1\u001b[0;31m \u001b[0mdata_frame_4\u001b[0m \u001b[0;34m=\u001b[0m \u001b[0mspark_operations\u001b[0m\u001b[0;34m.\u001b[0m\u001b[0msql\u001b[0m\u001b[0;34m(\u001b[0m\u001b[0;34m'select * from test'\u001b[0m\u001b[0;34m)\u001b[0m\u001b[0;34m\u001b[0m\u001b[0;34m\u001b[0m\u001b[0m\n\u001b[0m\u001b[1;32m      2\u001b[0m \u001b[0mdata_frame_4\u001b[0m\u001b[0;34m.\u001b[0m\u001b[0mshow\u001b[0m\u001b[0;34m(\u001b[0m\u001b[0;34m)\u001b[0m\u001b[0;34m\u001b[0m\u001b[0;34m\u001b[0m\u001b[0m\n",
            "\u001b[0;32m/usr/local/lib/python3.10/dist-packages/pyspark/sql/session.py\u001b[0m in \u001b[0;36msql\u001b[0;34m(self, sqlQuery, args, **kwargs)\u001b[0m\n\u001b[1;32m   1629\u001b[0m                     \u001b[0;34m[\u001b[0m\u001b[0m_to_java_column\u001b[0m\u001b[0;34m(\u001b[0m\u001b[0mlit\u001b[0m\u001b[0;34m(\u001b[0m\u001b[0mv\u001b[0m\u001b[0;34m)\u001b[0m\u001b[0;34m)\u001b[0m \u001b[0;32mfor\u001b[0m \u001b[0mv\u001b[0m \u001b[0;32min\u001b[0m \u001b[0;34m(\u001b[0m\u001b[0margs\u001b[0m \u001b[0;32mor\u001b[0m \u001b[0;34m[\u001b[0m\u001b[0;34m]\u001b[0m\u001b[0;34m)\u001b[0m\u001b[0;34m]\u001b[0m\u001b[0;34m\u001b[0m\u001b[0;34m\u001b[0m\u001b[0m\n\u001b[1;32m   1630\u001b[0m                 )\n\u001b[0;32m-> 1631\u001b[0;31m             \u001b[0;32mreturn\u001b[0m \u001b[0mDataFrame\u001b[0m\u001b[0;34m(\u001b[0m\u001b[0mself\u001b[0m\u001b[0;34m.\u001b[0m\u001b[0m_jsparkSession\u001b[0m\u001b[0;34m.\u001b[0m\u001b[0msql\u001b[0m\u001b[0;34m(\u001b[0m\u001b[0msqlQuery\u001b[0m\u001b[0;34m,\u001b[0m \u001b[0mlitArgs\u001b[0m\u001b[0;34m)\u001b[0m\u001b[0;34m,\u001b[0m \u001b[0mself\u001b[0m\u001b[0;34m)\u001b[0m\u001b[0;34m\u001b[0m\u001b[0;34m\u001b[0m\u001b[0m\n\u001b[0m\u001b[1;32m   1632\u001b[0m         \u001b[0;32mfinally\u001b[0m\u001b[0;34m:\u001b[0m\u001b[0;34m\u001b[0m\u001b[0;34m\u001b[0m\u001b[0m\n\u001b[1;32m   1633\u001b[0m             \u001b[0;32mif\u001b[0m \u001b[0mlen\u001b[0m\u001b[0;34m(\u001b[0m\u001b[0mkwargs\u001b[0m\u001b[0;34m)\u001b[0m \u001b[0;34m>\u001b[0m \u001b[0;36m0\u001b[0m\u001b[0;34m:\u001b[0m\u001b[0;34m\u001b[0m\u001b[0;34m\u001b[0m\u001b[0m\n",
            "\u001b[0;32m/usr/local/lib/python3.10/dist-packages/py4j/java_gateway.py\u001b[0m in \u001b[0;36m__call__\u001b[0;34m(self, *args)\u001b[0m\n\u001b[1;32m   1320\u001b[0m \u001b[0;34m\u001b[0m\u001b[0m\n\u001b[1;32m   1321\u001b[0m         \u001b[0manswer\u001b[0m \u001b[0;34m=\u001b[0m \u001b[0mself\u001b[0m\u001b[0;34m.\u001b[0m\u001b[0mgateway_client\u001b[0m\u001b[0;34m.\u001b[0m\u001b[0msend_command\u001b[0m\u001b[0;34m(\u001b[0m\u001b[0mcommand\u001b[0m\u001b[0;34m)\u001b[0m\u001b[0;34m\u001b[0m\u001b[0;34m\u001b[0m\u001b[0m\n\u001b[0;32m-> 1322\u001b[0;31m         return_value = get_return_value(\n\u001b[0m\u001b[1;32m   1323\u001b[0m             answer, self.gateway_client, self.target_id, self.name)\n\u001b[1;32m   1324\u001b[0m \u001b[0;34m\u001b[0m\u001b[0m\n",
            "\u001b[0;32m/usr/local/lib/python3.10/dist-packages/pyspark/errors/exceptions/captured.py\u001b[0m in \u001b[0;36mdeco\u001b[0;34m(*a, **kw)\u001b[0m\n\u001b[1;32m    183\u001b[0m                 \u001b[0;31m# Hide where the exception came from that shows a non-Pythonic\u001b[0m\u001b[0;34m\u001b[0m\u001b[0;34m\u001b[0m\u001b[0m\n\u001b[1;32m    184\u001b[0m                 \u001b[0;31m# JVM exception message.\u001b[0m\u001b[0;34m\u001b[0m\u001b[0;34m\u001b[0m\u001b[0m\n\u001b[0;32m--> 185\u001b[0;31m                 \u001b[0;32mraise\u001b[0m \u001b[0mconverted\u001b[0m \u001b[0;32mfrom\u001b[0m \u001b[0;32mNone\u001b[0m\u001b[0;34m\u001b[0m\u001b[0;34m\u001b[0m\u001b[0m\n\u001b[0m\u001b[1;32m    186\u001b[0m             \u001b[0;32melse\u001b[0m\u001b[0;34m:\u001b[0m\u001b[0;34m\u001b[0m\u001b[0;34m\u001b[0m\u001b[0m\n\u001b[1;32m    187\u001b[0m                 \u001b[0;32mraise\u001b[0m\u001b[0;34m\u001b[0m\u001b[0;34m\u001b[0m\u001b[0m\n",
            "\u001b[0;31mAnalysisException\u001b[0m: [TABLE_OR_VIEW_NOT_FOUND] The table or view `test` cannot be found. Verify the spelling and correctness of the schema and catalog.\nIf you did not qualify the name with a schema, verify the current_schema() output, or qualify the name with the correct schema and catalog.\nTo tolerate the error on drop use DROP VIEW IF EXISTS or DROP TABLE IF EXISTS.; line 1 pos 14;\n'Project [*]\n+- 'UnresolvedRelation [test], [], false\n"
          ]
        }
      ]
    },
    {
      "cell_type": "code",
      "source": [
        "# spark_operations.catalog.dropGlobalTempView('test')\n",
        "spark_operations.catalog.listDatabases()"
      ],
      "metadata": {
        "id": "rqarAwJIJpFr",
        "colab": {
          "base_uri": "https://localhost:8080/"
        },
        "outputId": "baa68a0d-2940-42d9-dc43-22273484baf2"
      },
      "execution_count": null,
      "outputs": [
        {
          "output_type": "execute_result",
          "data": {
            "text/plain": [
              "[Database(name='default', catalog='spark_catalog', description='default database', locationUri='file:/content/spark-warehouse')]"
            ]
          },
          "metadata": {},
          "execution_count": 17
        }
      ]
    },
    {
      "cell_type": "code",
      "source": [
        "# Assuming spark is your SparkSession object\n",
        "global_temp_views = spark_operations.catalog.listTables(\"global_temp\")\n",
        "\n",
        "# Print the list of global temporary views\n",
        "for view in global_temp_views:\n",
        "    print(view)\n"
      ],
      "metadata": {
        "id": "s3ndHYufJtZR",
        "colab": {
          "base_uri": "https://localhost:8080/"
        },
        "outputId": "d7ebea8d-b485-469d-9a40-a63d6cbf084d"
      },
      "execution_count": null,
      "outputs": [
        {
          "output_type": "stream",
          "name": "stdout",
          "text": [
            "Table(name='test', catalog=None, namespace=['global_temp'], description=None, tableType='TEMPORARY', isTemporary=True)\n"
          ]
        }
      ]
    },
    {
      "cell_type": "markdown",
      "source": [
        "# PySpark UDF (User Defined Functions)"
      ],
      "metadata": {
        "id": "mAZ6vZvXTUny"
      }
    },
    {
      "cell_type": "code",
      "source": [
        "from pyspark.sql import SparkSession\n",
        "from pyspark.sql.functions import *\n",
        "from pyspark.sql.types import LongType\n",
        "import pandas as pd\n",
        "from pyspark.sql.functions import col, pandas_udf"
      ],
      "metadata": {
        "id": "6Gzyni5zTcJL"
      },
      "execution_count": 14,
      "outputs": []
    },
    {
      "cell_type": "code",
      "source": [
        "spark_udf = SparkSession.builder.appName('spark_udf').enableHiveSupport().getOrCreate()"
      ],
      "metadata": {
        "id": "LJaLes3XUBw9"
      },
      "execution_count": 17,
      "outputs": []
    },
    {
      "cell_type": "code",
      "source": [
        "def cubed(a:pd.Series) -> pd.Series:\n",
        "  return a*a*a"
      ],
      "metadata": {
        "id": "l96A2cQqVrii"
      },
      "execution_count": 21,
      "outputs": []
    },
    {
      "cell_type": "code",
      "source": [
        "# Registring the UDF with pandas_udf function\n",
        "cubed_udf = pandas_udf(cubed, returnType=LongType())"
      ],
      "metadata": {
        "id": "gzOT9qlEWBSi"
      },
      "execution_count": 22,
      "outputs": []
    },
    {
      "cell_type": "code",
      "source": [
        "x = pd.Series([1,2,3])\n",
        "print(cubed(x))"
      ],
      "metadata": {
        "colab": {
          "base_uri": "https://localhost:8080/"
        },
        "id": "7Emf4Jz6WM1J",
        "outputId": "f83607ac-e0ec-4fc4-cc07-785cf4e8f4e2"
      },
      "execution_count": 25,
      "outputs": [
        {
          "output_type": "stream",
          "name": "stdout",
          "text": [
            "0     1\n",
            "1     8\n",
            "2    27\n",
            "dtype: int64\n"
          ]
        }
      ]
    },
    {
      "cell_type": "code",
      "source": [
        "df = spark_udf.range(1,4)\n",
        "df.select(col('id'), cubed_udf('id')).show()"
      ],
      "metadata": {
        "colab": {
          "base_uri": "https://localhost:8080/"
        },
        "id": "dncLj7JldSx5",
        "outputId": "c61ded7a-fb2c-496c-aad7-9c4b6c05c74e"
      },
      "execution_count": 33,
      "outputs": [
        {
          "output_type": "stream",
          "name": "stdout",
          "text": [
            "+---+---------+\n",
            "| id|cubed(id)|\n",
            "+---+---------+\n",
            "|  1|        1|\n",
            "|  2|        8|\n",
            "|  3|       27|\n",
            "+---+---------+\n",
            "\n"
          ]
        }
      ]
    },
    {
      "cell_type": "code",
      "source": [],
      "metadata": {
        "id": "oa8xscASdt1x"
      },
      "execution_count": null,
      "outputs": []
    },
    {
      "cell_type": "markdown",
      "source": [
        "# Integrating MongoDB with PySpark\n",
        "\n",
        "\n"
      ],
      "metadata": {
        "id": "5Y_KdSVKqRBc"
      }
    },
    {
      "cell_type": "code",
      "source": [],
      "metadata": {
        "id": "sn65erjXqZmz"
      },
      "execution_count": null,
      "outputs": []
    }
  ]
}