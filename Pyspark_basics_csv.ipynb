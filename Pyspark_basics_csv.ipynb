{
  "nbformat": 4,
  "nbformat_minor": 0,
  "metadata": {
    "colab": {
      "provenance": [],
      "collapsed_sections": [
        "EL6YMnoavzqx",
        "5B7_e5nTxY4k"
      ],
      "toc_visible": true,
      "authorship_tag": "ABX9TyOsDjXFOHGMfdcvq466Df9m",
      "include_colab_link": true
    },
    "kernelspec": {
      "name": "python3",
      "display_name": "Python 3"
    },
    "language_info": {
      "name": "python"
    }
  },
  "cells": [
    {
      "cell_type": "markdown",
      "metadata": {
        "id": "view-in-github",
        "colab_type": "text"
      },
      "source": [
        "<a href=\"https://colab.research.google.com/github/Sam-Ny/PySpark/blob/main/Pyspark_basics_csv.ipynb\" target=\"_parent\"><img src=\"https://colab.research.google.com/assets/colab-badge.svg\" alt=\"Open In Colab\"/></a>"
      ]
    },
    {
      "cell_type": "code",
      "source": [
        "!pip install pyspark py4j"
      ],
      "metadata": {
        "id": "5ekwl_kMclyz",
        "colab": {
          "base_uri": "https://localhost:8080/"
        },
        "outputId": "9fe6a330-63f8-43ed-b183-1da0225db2ac"
      },
      "execution_count": 93,
      "outputs": [
        {
          "output_type": "stream",
          "name": "stdout",
          "text": [
            "Requirement already satisfied: pyspark in /usr/local/lib/python3.10/dist-packages (3.5.0)\n",
            "Requirement already satisfied: py4j in /usr/local/lib/python3.10/dist-packages (0.10.9.7)\n"
          ]
        }
      ]
    },
    {
      "cell_type": "markdown",
      "source": [
        "# To load and analyse the fakefriends.csv data."
      ],
      "metadata": {
        "id": "EL6YMnoavzqx"
      }
    },
    {
      "cell_type": "code",
      "source": [
        "from pyspark.sql import SparkSession\n",
        "from pyspark.sql.types import StructType, StructField, IntegerType, StringType\n",
        "import pyspark.sql.functions as func"
      ],
      "metadata": {
        "id": "PW90BFQ3f4I9"
      },
      "execution_count": 94,
      "outputs": []
    },
    {
      "cell_type": "code",
      "source": [
        "#Creating the SparkSession\n",
        "spark_fakefriends = SparkSession.builder.appName(\"FirstApp\").getOrCreate()"
      ],
      "metadata": {
        "id": "yXw3xXfzhHRj"
      },
      "execution_count": 95,
      "outputs": []
    },
    {
      "cell_type": "code",
      "source": [
        "#Defining schema for your Dataframe\n",
        "myschema = StructType([\\\n",
        "                       StructField(\"userID\", IntegerType(),True), #True means is nullable\n",
        "                       StructField(\"name\", StringType(),True),\n",
        "                       StructField(\"age\", IntegerType(),True),\n",
        "                       StructField(\"friends\", IntegerType(),True)\n",
        "                       ])"
      ],
      "metadata": {
        "id": "pqfEBiA9kB81"
      },
      "execution_count": 96,
      "outputs": []
    },
    {
      "cell_type": "code",
      "source": [
        "#Creating Dataframe on a CSV file\n",
        "people = spark.read.format(\"CSV\")\\\n",
        "      .schema(myschema)\\\n",
        "      .option(\"path\",\"/content/fakefriends.csv\")\\\n",
        "      .load()"
      ],
      "metadata": {
        "id": "TFaFwxlUkuOt"
      },
      "execution_count": 97,
      "outputs": []
    },
    {
      "cell_type": "code",
      "source": [
        "#Performing all the transformations\n",
        "output=people.select(people.userID,people.name,people.age,people.friends).where(people.age<30).withColumn('insert_timestamp',func.current_timestamp()).orderBy(people.userID)"
      ],
      "metadata": {
        "id": "rAZwExWGdTVK"
      },
      "execution_count": 98,
      "outputs": []
    },
    {
      "cell_type": "code",
      "source": [
        "#taking the count of o/p dataframe\n",
        "output.show()"
      ],
      "metadata": {
        "id": "cGzXhoIcm4GO",
        "colab": {
          "base_uri": "https://localhost:8080/"
        },
        "outputId": "377d70e3-fb20-4e69-c9f1-72cccf7104e4"
      },
      "execution_count": 99,
      "outputs": [
        {
          "output_type": "stream",
          "name": "stdout",
          "text": [
            "+------+--------+---+-------+--------------------+\n",
            "|userID|    name|age|friends|    insert_timestamp|\n",
            "+------+--------+---+-------+--------------------+\n",
            "|     1|Jean-Luc| 26|      2|2024-02-15 09:12:...|\n",
            "|     9|    Hugh| 27|    181|2024-02-15 09:12:...|\n",
            "|    16|  Weyoun| 22|    323|2024-02-15 09:12:...|\n",
            "|    21|   Miles| 19|    268|2024-02-15 09:12:...|\n",
            "|    24|  Julian| 25|      1|2024-02-15 09:12:...|\n",
            "|    25|     Ben| 21|    445|2024-02-15 09:12:...|\n",
            "|    26|  Julian| 22|    100|2024-02-15 09:12:...|\n",
            "|    32|     Nog| 26|    281|2024-02-15 09:12:...|\n",
            "|    35| Beverly| 27|    305|2024-02-15 09:12:...|\n",
            "|    46|    Morn| 25|     96|2024-02-15 09:12:...|\n",
            "|    47|   Brunt| 24|     49|2024-02-15 09:12:...|\n",
            "|    48|     Nog| 20|      1|2024-02-15 09:12:...|\n",
            "|    52| Beverly| 19|    269|2024-02-15 09:12:...|\n",
            "|    54|   Brunt| 19|      5|2024-02-15 09:12:...|\n",
            "|    60|  Geordi| 20|    100|2024-02-15 09:12:...|\n",
            "|    66|  Geordi| 21|    477|2024-02-15 09:12:...|\n",
            "|    72|  Kasidy| 22|    179|2024-02-15 09:12:...|\n",
            "|    73|   Brunt| 20|    384|2024-02-15 09:12:...|\n",
            "|    84|     Ben| 28|    311|2024-02-15 09:12:...|\n",
            "|    89|    Worf| 24|    492|2024-02-15 09:12:...|\n",
            "+------+--------+---+-------+--------------------+\n",
            "only showing top 20 rows\n",
            "\n"
          ]
        }
      ]
    },
    {
      "cell_type": "code",
      "source": [
        "#Creating a Temp View\n",
        "output.createOrReplaceTempView(\"peoples\")"
      ],
      "metadata": {
        "id": "J4Hg7DqReTX7"
      },
      "execution_count": 100,
      "outputs": []
    },
    {
      "cell_type": "code",
      "source": [
        "#Running a simple Spark SQL query\n",
        "spark.sql(\"select userId,name,age,friends,insert_timestamp from peoples\").show()"
      ],
      "metadata": {
        "colab": {
          "base_uri": "https://localhost:8080/"
        },
        "id": "jMG6Aha6eg96",
        "outputId": "6665eace-bc1d-4774-c223-211ad30bf8b5"
      },
      "execution_count": 101,
      "outputs": [
        {
          "output_type": "stream",
          "name": "stdout",
          "text": [
            "+------+--------+---+-------+--------------------+\n",
            "|userId|    name|age|friends|    insert_timestamp|\n",
            "+------+--------+---+-------+--------------------+\n",
            "|     1|Jean-Luc| 26|      2|2024-02-15 09:12:...|\n",
            "|     9|    Hugh| 27|    181|2024-02-15 09:12:...|\n",
            "|    16|  Weyoun| 22|    323|2024-02-15 09:12:...|\n",
            "|    21|   Miles| 19|    268|2024-02-15 09:12:...|\n",
            "|    24|  Julian| 25|      1|2024-02-15 09:12:...|\n",
            "|    25|     Ben| 21|    445|2024-02-15 09:12:...|\n",
            "|    26|  Julian| 22|    100|2024-02-15 09:12:...|\n",
            "|    32|     Nog| 26|    281|2024-02-15 09:12:...|\n",
            "|    35| Beverly| 27|    305|2024-02-15 09:12:...|\n",
            "|    46|    Morn| 25|     96|2024-02-15 09:12:...|\n",
            "|    47|   Brunt| 24|     49|2024-02-15 09:12:...|\n",
            "|    48|     Nog| 20|      1|2024-02-15 09:12:...|\n",
            "|    52| Beverly| 19|    269|2024-02-15 09:12:...|\n",
            "|    54|   Brunt| 19|      5|2024-02-15 09:12:...|\n",
            "|    60|  Geordi| 20|    100|2024-02-15 09:12:...|\n",
            "|    66|  Geordi| 21|    477|2024-02-15 09:12:...|\n",
            "|    72|  Kasidy| 22|    179|2024-02-15 09:12:...|\n",
            "|    73|   Brunt| 20|    384|2024-02-15 09:12:...|\n",
            "|    84|     Ben| 28|    311|2024-02-15 09:12:...|\n",
            "|    89|    Worf| 24|    492|2024-02-15 09:12:...|\n",
            "+------+--------+---+-------+--------------------+\n",
            "only showing top 20 rows\n",
            "\n"
          ]
        }
      ]
    },
    {
      "cell_type": "markdown",
      "source": [
        "# To load and analyse the operations_management.csv data."
      ],
      "metadata": {
        "id": "5B7_e5nTxY4k"
      }
    },
    {
      "cell_type": "code",
      "source": [
        "from pyspark.sql import SparkSession\n",
        "from pyspark.sql.functions import col, desc"
      ],
      "metadata": {
        "id": "6hz-iKi-xk-U"
      },
      "execution_count": 102,
      "outputs": []
    },
    {
      "cell_type": "code",
      "source": [
        "spark_operations = SparkSession.builder.appName('operations_management data analisation').getOrCreate()"
      ],
      "metadata": {
        "id": "SiYlwzFWjBsR"
      },
      "execution_count": 103,
      "outputs": []
    },
    {
      "cell_type": "code",
      "source": [
        "print(spark.version)"
      ],
      "metadata": {
        "id": "fNvHX_g5jT3n",
        "colab": {
          "base_uri": "https://localhost:8080/"
        },
        "outputId": "09fd4bbe-3abd-4a11-aeac-08357a8cf76d"
      },
      "execution_count": 104,
      "outputs": [
        {
          "output_type": "stream",
          "name": "stdout",
          "text": [
            "3.5.0\n"
          ]
        }
      ]
    },
    {
      "cell_type": "code",
      "source": [
        "data_frame = spark_operations.read.format('CSV').\\\n",
        "option('inferSchema','true').\\\n",
        "option('header','true').\\\n",
        "option('path','/content/operations_management.csv').\\\n",
        "load()"
      ],
      "metadata": {
        "id": "cDDV6YDVjllP"
      },
      "execution_count": 105,
      "outputs": []
    },
    {
      "cell_type": "code",
      "source": [
        "data_frame.printSchema()"
      ],
      "metadata": {
        "id": "nVllKFQgm2N3",
        "colab": {
          "base_uri": "https://localhost:8080/"
        },
        "outputId": "4b942135-12aa-40ec-af03-7fc0257502b8"
      },
      "execution_count": 106,
      "outputs": [
        {
          "output_type": "stream",
          "name": "stdout",
          "text": [
            "root\n",
            " |-- description: string (nullable = true)\n",
            " |-- industry: string (nullable = true)\n",
            " |-- level: integer (nullable = true)\n",
            " |-- size: string (nullable = true)\n",
            " |-- line_code: string (nullable = true)\n",
            " |-- value: integer (nullable = true)\n",
            "\n"
          ]
        }
      ]
    },
    {
      "cell_type": "code",
      "source": [
        "data_frame_2 = data_frame.select('industry','value').\\\n",
        "where(data_frame.value > 10000).\\\n",
        "orderBy(desc('value'))"
      ],
      "metadata": {
        "id": "lRO05ziFn20V"
      },
      "execution_count": 107,
      "outputs": []
    },
    {
      "cell_type": "code",
      "source": [
        "data_frame_2.printSchema()"
      ],
      "metadata": {
        "id": "VCea1fIOpnKz",
        "colab": {
          "base_uri": "https://localhost:8080/"
        },
        "outputId": "bfab36d8-3ad4-4ebb-d7aa-1d006cb5b2a6"
      },
      "execution_count": 108,
      "outputs": [
        {
          "output_type": "stream",
          "name": "stdout",
          "text": [
            "root\n",
            " |-- industry: string (nullable = true)\n",
            " |-- value: integer (nullable = true)\n",
            "\n"
          ]
        }
      ]
    },
    {
      "cell_type": "code",
      "source": [
        "data_frame_2.show(5)"
      ],
      "metadata": {
        "id": "v4Vq2npyqg4r",
        "colab": {
          "base_uri": "https://localhost:8080/"
        },
        "outputId": "e9dfadff-4e27-4c32-8248-a8102151abbc"
      },
      "execution_count": 109,
      "outputs": [
        {
          "output_type": "stream",
          "name": "stdout",
          "text": [
            "+--------+-----+\n",
            "|industry|value|\n",
            "+--------+-----+\n",
            "|   total|41091|\n",
            "|   total|40431|\n",
            "|   total|33984|\n",
            "|   total|33750|\n",
            "|   total|32652|\n",
            "+--------+-----+\n",
            "only showing top 5 rows\n",
            "\n"
          ]
        }
      ]
    },
    {
      "cell_type": "code",
      "source": [
        "# Or we can use filter instead of where clause to filter using value columns\n",
        "data_frame_3 = data_frame.select('industry','value').\\\n",
        "filter((col('value') > 200) & (col('industry') != 'total')).\\\n",
        "orderBy(desc('value'))"
      ],
      "metadata": {
        "id": "2mQT1ox6pvp5"
      },
      "execution_count": 110,
      "outputs": []
    },
    {
      "cell_type": "code",
      "source": [
        "data_frame_3.printSchema()"
      ],
      "metadata": {
        "id": "p1sSSqL6qb59",
        "colab": {
          "base_uri": "https://localhost:8080/"
        },
        "outputId": "1aa211b7-b000-4606-f3f3-5e617391dc10"
      },
      "execution_count": 111,
      "outputs": [
        {
          "output_type": "stream",
          "name": "stdout",
          "text": [
            "root\n",
            " |-- industry: string (nullable = true)\n",
            " |-- value: integer (nullable = true)\n",
            "\n"
          ]
        }
      ]
    },
    {
      "cell_type": "code",
      "source": [
        "data_frame_3.show(5)"
      ],
      "metadata": {
        "id": "nabI5mSLqnnh",
        "colab": {
          "base_uri": "https://localhost:8080/"
        },
        "outputId": "94569850-9582-461d-9b7d-4f038de5632c"
      },
      "execution_count": 112,
      "outputs": [
        {
          "output_type": "stream",
          "name": "stdout",
          "text": [
            "+--------------------+-----+\n",
            "|            industry|value|\n",
            "+--------------------+-----+\n",
            "|        Construction| 6030|\n",
            "|        Construction| 5904|\n",
            "|        Construction| 5229|\n",
            "|Accommodation & f...| 5058|\n",
            "|        Construction| 4965|\n",
            "+--------------------+-----+\n",
            "only showing top 5 rows\n",
            "\n"
          ]
        }
      ]
    },
    {
      "cell_type": "code",
      "source": [
        "# Creating a Temp View\n",
        "data_frame_3.createOrReplaceTempView('data') #Here data is any name given to view"
      ],
      "metadata": {
        "id": "kFfD3tuUwMa-"
      },
      "execution_count": 113,
      "outputs": []
    },
    {
      "cell_type": "code",
      "source": [
        "# To get the temp view data\n",
        "spark_operations.sql('''select industry, value\n",
        "from data\n",
        "where value >200 and\n",
        "industry !=\"total\" order by value desc\n",
        "''').show(5)"
      ],
      "metadata": {
        "id": "vJu31L62xUB3",
        "colab": {
          "base_uri": "https://localhost:8080/"
        },
        "outputId": "69dabe6a-3e90-4239-e138-4730b67b5831"
      },
      "execution_count": 114,
      "outputs": [
        {
          "output_type": "stream",
          "name": "stdout",
          "text": [
            "+--------------------+-----+\n",
            "|            industry|value|\n",
            "+--------------------+-----+\n",
            "|        Construction| 6030|\n",
            "|        Construction| 5904|\n",
            "|        Construction| 5229|\n",
            "|Accommodation & f...| 5058|\n",
            "|        Construction| 4965|\n",
            "+--------------------+-----+\n",
            "only showing top 5 rows\n",
            "\n"
          ]
        }
      ]
    },
    {
      "cell_type": "markdown",
      "source": [
        "# To Create Global and Section Scope view using operations_management.csv data"
      ],
      "metadata": {
        "id": "yraf-sckGRRE"
      }
    },
    {
      "cell_type": "code",
      "source": [
        "from pyspark.sql import SparkSession\n",
        "from pyspark.sql.functions import col, desc"
      ],
      "metadata": {
        "id": "_YGAbi1TGozc"
      },
      "execution_count": 226,
      "outputs": []
    },
    {
      "cell_type": "code",
      "source": [
        "spark_operations = SparkSession.builder.appName('operations_management data analisation').getOrCreate()"
      ],
      "metadata": {
        "id": "x8TDR87yGozj"
      },
      "execution_count": 227,
      "outputs": []
    },
    {
      "cell_type": "code",
      "source": [
        "print(spark_operations.version)"
      ],
      "metadata": {
        "colab": {
          "base_uri": "https://localhost:8080/"
        },
        "outputId": "4e2faeae-7155-486e-d2de-e36d238892f2",
        "id": "Wrh164A-Gozj"
      },
      "execution_count": 228,
      "outputs": [
        {
          "output_type": "stream",
          "name": "stdout",
          "text": [
            "3.5.0\n"
          ]
        }
      ]
    },
    {
      "cell_type": "code",
      "source": [
        "data_frame = spark_operations.read.format('CSV').\\\n",
        "option('inferSchema','true').\\\n",
        "option('header','true').\\\n",
        "option('path','/content/operations_management.csv').\\\n",
        "load()"
      ],
      "metadata": {
        "id": "_3CWZlBaGozj"
      },
      "execution_count": 229,
      "outputs": []
    },
    {
      "cell_type": "code",
      "source": [
        "data_frame.printSchema()"
      ],
      "metadata": {
        "colab": {
          "base_uri": "https://localhost:8080/"
        },
        "outputId": "9acceb74-ef12-4eaa-fd1e-60476c1faa74",
        "id": "bsnRKk7NGozk"
      },
      "execution_count": 230,
      "outputs": [
        {
          "output_type": "stream",
          "name": "stdout",
          "text": [
            "root\n",
            " |-- description: string (nullable = true)\n",
            " |-- industry: string (nullable = true)\n",
            " |-- level: integer (nullable = true)\n",
            " |-- size: string (nullable = true)\n",
            " |-- line_code: string (nullable = true)\n",
            " |-- value: integer (nullable = true)\n",
            "\n"
          ]
        }
      ]
    },
    {
      "cell_type": "code",
      "source": [
        "data_frame_3.createOrReplaceGlobalTempView(\"test\")"
      ],
      "metadata": {
        "id": "f680AN9bHajS"
      },
      "execution_count": 231,
      "outputs": []
    },
    {
      "cell_type": "code",
      "source": [
        "data_frame_4 = spark_operations.sql('select * from test')\n",
        "data_frame_4.show()"
      ],
      "metadata": {
        "colab": {
          "base_uri": "https://localhost:8080/",
          "height": 391
        },
        "id": "XJ97EKwAHQrW",
        "outputId": "e7af0efe-7dfc-483e-adac-ff06d9b8bc7c"
      },
      "execution_count": 232,
      "outputs": [
        {
          "output_type": "error",
          "ename": "AnalysisException",
          "evalue": "[TABLE_OR_VIEW_NOT_FOUND] The table or view `test` cannot be found. Verify the spelling and correctness of the schema and catalog.\nIf you did not qualify the name with a schema, verify the current_schema() output, or qualify the name with the correct schema and catalog.\nTo tolerate the error on drop use DROP VIEW IF EXISTS or DROP TABLE IF EXISTS.; line 1 pos 14;\n'Project [*]\n+- 'UnresolvedRelation [test], [], false\n",
          "traceback": [
            "\u001b[0;31m---------------------------------------------------------------------------\u001b[0m",
            "\u001b[0;31mAnalysisException\u001b[0m                         Traceback (most recent call last)",
            "\u001b[0;32m<ipython-input-232-1d7f87c92042>\u001b[0m in \u001b[0;36m<cell line: 1>\u001b[0;34m()\u001b[0m\n\u001b[0;32m----> 1\u001b[0;31m \u001b[0mdata_frame_4\u001b[0m \u001b[0;34m=\u001b[0m \u001b[0mspark_operations\u001b[0m\u001b[0;34m.\u001b[0m\u001b[0msql\u001b[0m\u001b[0;34m(\u001b[0m\u001b[0;34m'select * from test'\u001b[0m\u001b[0;34m)\u001b[0m\u001b[0;34m\u001b[0m\u001b[0;34m\u001b[0m\u001b[0m\n\u001b[0m\u001b[1;32m      2\u001b[0m \u001b[0mdata_frame_4\u001b[0m\u001b[0;34m.\u001b[0m\u001b[0mshow\u001b[0m\u001b[0;34m(\u001b[0m\u001b[0;34m)\u001b[0m\u001b[0;34m\u001b[0m\u001b[0;34m\u001b[0m\u001b[0m\n",
            "\u001b[0;32m/usr/local/lib/python3.10/dist-packages/pyspark/sql/session.py\u001b[0m in \u001b[0;36msql\u001b[0;34m(self, sqlQuery, args, **kwargs)\u001b[0m\n\u001b[1;32m   1629\u001b[0m                     \u001b[0;34m[\u001b[0m\u001b[0m_to_java_column\u001b[0m\u001b[0;34m(\u001b[0m\u001b[0mlit\u001b[0m\u001b[0;34m(\u001b[0m\u001b[0mv\u001b[0m\u001b[0;34m)\u001b[0m\u001b[0;34m)\u001b[0m \u001b[0;32mfor\u001b[0m \u001b[0mv\u001b[0m \u001b[0;32min\u001b[0m \u001b[0;34m(\u001b[0m\u001b[0margs\u001b[0m \u001b[0;32mor\u001b[0m \u001b[0;34m[\u001b[0m\u001b[0;34m]\u001b[0m\u001b[0;34m)\u001b[0m\u001b[0;34m]\u001b[0m\u001b[0;34m\u001b[0m\u001b[0;34m\u001b[0m\u001b[0m\n\u001b[1;32m   1630\u001b[0m                 )\n\u001b[0;32m-> 1631\u001b[0;31m             \u001b[0;32mreturn\u001b[0m \u001b[0mDataFrame\u001b[0m\u001b[0;34m(\u001b[0m\u001b[0mself\u001b[0m\u001b[0;34m.\u001b[0m\u001b[0m_jsparkSession\u001b[0m\u001b[0;34m.\u001b[0m\u001b[0msql\u001b[0m\u001b[0;34m(\u001b[0m\u001b[0msqlQuery\u001b[0m\u001b[0;34m,\u001b[0m \u001b[0mlitArgs\u001b[0m\u001b[0;34m)\u001b[0m\u001b[0;34m,\u001b[0m \u001b[0mself\u001b[0m\u001b[0;34m)\u001b[0m\u001b[0;34m\u001b[0m\u001b[0;34m\u001b[0m\u001b[0m\n\u001b[0m\u001b[1;32m   1632\u001b[0m         \u001b[0;32mfinally\u001b[0m\u001b[0;34m:\u001b[0m\u001b[0;34m\u001b[0m\u001b[0;34m\u001b[0m\u001b[0m\n\u001b[1;32m   1633\u001b[0m             \u001b[0;32mif\u001b[0m \u001b[0mlen\u001b[0m\u001b[0;34m(\u001b[0m\u001b[0mkwargs\u001b[0m\u001b[0;34m)\u001b[0m \u001b[0;34m>\u001b[0m \u001b[0;36m0\u001b[0m\u001b[0;34m:\u001b[0m\u001b[0;34m\u001b[0m\u001b[0;34m\u001b[0m\u001b[0m\n",
            "\u001b[0;32m/usr/local/lib/python3.10/dist-packages/py4j/java_gateway.py\u001b[0m in \u001b[0;36m__call__\u001b[0;34m(self, *args)\u001b[0m\n\u001b[1;32m   1320\u001b[0m \u001b[0;34m\u001b[0m\u001b[0m\n\u001b[1;32m   1321\u001b[0m         \u001b[0manswer\u001b[0m \u001b[0;34m=\u001b[0m \u001b[0mself\u001b[0m\u001b[0;34m.\u001b[0m\u001b[0mgateway_client\u001b[0m\u001b[0;34m.\u001b[0m\u001b[0msend_command\u001b[0m\u001b[0;34m(\u001b[0m\u001b[0mcommand\u001b[0m\u001b[0;34m)\u001b[0m\u001b[0;34m\u001b[0m\u001b[0;34m\u001b[0m\u001b[0m\n\u001b[0;32m-> 1322\u001b[0;31m         return_value = get_return_value(\n\u001b[0m\u001b[1;32m   1323\u001b[0m             answer, self.gateway_client, self.target_id, self.name)\n\u001b[1;32m   1324\u001b[0m \u001b[0;34m\u001b[0m\u001b[0m\n",
            "\u001b[0;32m/usr/local/lib/python3.10/dist-packages/pyspark/errors/exceptions/captured.py\u001b[0m in \u001b[0;36mdeco\u001b[0;34m(*a, **kw)\u001b[0m\n\u001b[1;32m    183\u001b[0m                 \u001b[0;31m# Hide where the exception came from that shows a non-Pythonic\u001b[0m\u001b[0;34m\u001b[0m\u001b[0;34m\u001b[0m\u001b[0m\n\u001b[1;32m    184\u001b[0m                 \u001b[0;31m# JVM exception message.\u001b[0m\u001b[0;34m\u001b[0m\u001b[0;34m\u001b[0m\u001b[0m\n\u001b[0;32m--> 185\u001b[0;31m                 \u001b[0;32mraise\u001b[0m \u001b[0mconverted\u001b[0m \u001b[0;32mfrom\u001b[0m \u001b[0;32mNone\u001b[0m\u001b[0;34m\u001b[0m\u001b[0;34m\u001b[0m\u001b[0m\n\u001b[0m\u001b[1;32m    186\u001b[0m             \u001b[0;32melse\u001b[0m\u001b[0;34m:\u001b[0m\u001b[0;34m\u001b[0m\u001b[0;34m\u001b[0m\u001b[0m\n\u001b[1;32m    187\u001b[0m                 \u001b[0;32mraise\u001b[0m\u001b[0;34m\u001b[0m\u001b[0;34m\u001b[0m\u001b[0m\n",
            "\u001b[0;31mAnalysisException\u001b[0m: [TABLE_OR_VIEW_NOT_FOUND] The table or view `test` cannot be found. Verify the spelling and correctness of the schema and catalog.\nIf you did not qualify the name with a schema, verify the current_schema() output, or qualify the name with the correct schema and catalog.\nTo tolerate the error on drop use DROP VIEW IF EXISTS or DROP TABLE IF EXISTS.; line 1 pos 14;\n'Project [*]\n+- 'UnresolvedRelation [test], [], false\n"
          ]
        }
      ]
    },
    {
      "cell_type": "code",
      "source": [
        "spark_operations.catalog.dropGlobalTempView('test')\n",
        "spark_operations.catalog.listDatabases()"
      ],
      "metadata": {
        "id": "rqarAwJIJpFr"
      },
      "execution_count": null,
      "outputs": []
    },
    {
      "cell_type": "code",
      "source": [
        "# Assuming spark is your SparkSession object\n",
        "global_temp_views = spark_operations.catalog.listTables(\"global_temp\")\n",
        "\n",
        "# Print the list of global temporary views\n",
        "for view in global_temp_views:\n",
        "    print(view)\n"
      ],
      "metadata": {
        "id": "s3ndHYufJtZR"
      },
      "execution_count": null,
      "outputs": []
    }
  ]
}